{
 "cells": [
  {
   "cell_type": "code",
   "execution_count": 1,
   "metadata": {},
   "outputs": [],
   "source": [
    "%reload_ext autoreload\n",
    "%autoreload 2\n",
    "%matplotlib inline"
   ]
  },
  {
   "cell_type": "code",
   "execution_count": 7,
   "metadata": {},
   "outputs": [],
   "source": [
    "from fastai.vision import *\n",
    "import os"
   ]
  },
  {
   "cell_type": "code",
   "execution_count": 1,
   "metadata": {},
   "outputs": [
    {
     "name": "stdout",
     "output_type": "stream",
     "text": [
      "total 232\r\n",
      "drwxr-xr-x  21 guillaumevanderwinden  staff    672 Dec  2 14:39 \u001b[1m\u001b[36m.\u001b[m\u001b[m\r\n",
      "drwxr-xr-x  14 guillaumevanderwinden  staff    448 Nov 26 09:44 \u001b[1m\u001b[36m..\u001b[m\u001b[m\r\n",
      "-rw-r--r--@  1 guillaumevanderwinden  staff   6148 Dec  2 11:25 .DS_Store\r\n",
      "drwxr-xr-x  14 guillaumevanderwinden  staff    448 Dec  2 13:44 \u001b[1m\u001b[36m.git\u001b[m\u001b[m\r\n",
      "drwxr-xr-x   3 guillaumevanderwinden  staff     96 Nov 23 13:00 \u001b[1m\u001b[36m.github\u001b[m\u001b[m\r\n",
      "-rw-r--r--   1 guillaumevanderwinden  staff    127 Nov 24 12:28 .gitignore\r\n",
      "drwxr-xr-x   3 guillaumevanderwinden  staff     96 Nov 29 20:30 \u001b[1m\u001b[36m.ipynb_checkpoints\u001b[m\u001b[m\r\n",
      "-rw-r--r--   1 guillaumevanderwinden  staff    100 Nov 24 12:27 MANIFEST.in\r\n",
      "-rw-r--r--   1 guillaumevanderwinden  staff   2838 Nov 27 17:36 Makefile\r\n",
      "-rw-r--r--   1 guillaumevanderwinden  staff   1736 Nov 24 12:27 README.md\r\n",
      "-rw-r--r--   1 guillaumevanderwinden  staff      0 Dec  1 15:42 app.py\r\n",
      "drwxr-xr-x   9 guillaumevanderwinden  staff    288 Dec  1 15:42 \u001b[1m\u001b[36mgreeneye\u001b[m\u001b[m\r\n",
      "-rw-r--r--@  1 guillaumevanderwinden  staff   3736 Dec  2 14:38 gui-modeling.ipynb\r\n",
      "drwxr-xr-x   7 guillaumevanderwinden  staff    224 Nov 27 10:53 \u001b[1m\u001b[36mnotebooks\u001b[m\u001b[m\r\n",
      "drwxr-xr-x   5 guillaumevanderwinden  staff    160 Nov 27 11:14 \u001b[1m\u001b[36mraw_data\u001b[m\u001b[m\r\n",
      "-rw-r--r--   1 guillaumevanderwinden  staff     95 Nov 23 13:00 requirements.txt\r\n",
      "drwxr-xr-x   3 guillaumevanderwinden  staff     96 Nov 24 12:27 \u001b[1m\u001b[36mscripts\u001b[m\u001b[m\r\n",
      "-rw-r--r--   1 guillaumevanderwinden  staff    498 Nov 24 12:27 setup.py\r\n",
      "drwxr-xr-x   2 guillaumevanderwinden  staff     64 Dec  1 12:34 \u001b[1m\u001b[36mtestdata\u001b[m\u001b[m\r\n",
      "drwxr-xr-x   4 guillaumevanderwinden  staff    128 Nov 23 13:00 \u001b[1m\u001b[36mtests\u001b[m\u001b[m\r\n",
      "-rw-r--r--@  1 guillaumevanderwinden  staff  79165 Nov 30 18:55 vinny_data_exploration.ipynb\r\n"
     ]
    }
   ],
   "source": [
    "!ls -la"
   ]
  },
  {
   "cell_type": "code",
   "execution_count": 6,
   "metadata": {},
   "outputs": [
    {
     "ename": "SyntaxError",
     "evalue": "invalid syntax (<ipython-input-6-5759929438c7>, line 1)",
     "output_type": "error",
     "traceback": [
      "\u001b[0;36m  File \u001b[0;32m\"<ipython-input-6-5759929438c7>\"\u001b[0;36m, line \u001b[0;32m1\u001b[0m\n\u001b[0;31m    path = (greeneye/raw_data/)\u001b[0m\n\u001b[0m                              ^\u001b[0m\n\u001b[0;31mSyntaxError\u001b[0m\u001b[0;31m:\u001b[0m invalid syntax\n"
     ]
    }
   ],
   "source": [
    "path = (greeneye/raw_data/)\n",
    "path.ls()"
   ]
  },
  {
   "cell_type": "code",
   "execution_count": null,
   "metadata": {},
   "outputs": [],
   "source": []
  }
 ],
 "metadata": {
  "kernelspec": {
   "display_name": "Python 3",
   "language": "python",
   "name": "python3"
  },
  "toc": {
   "base_numbering": 1,
   "nav_menu": {},
   "number_sections": true,
   "sideBar": true,
   "skip_h1_title": false,
   "title_cell": "Table of Contents",
   "title_sidebar": "Contents",
   "toc_cell": false,
   "toc_position": {},
   "toc_section_display": true,
   "toc_window_display": false
  },
  "varInspector": {
   "cols": {
    "lenName": 16,
    "lenType": 16,
    "lenVar": 40
   },
   "kernels_config": {
    "python": {
     "delete_cmd_postfix": "",
     "delete_cmd_prefix": "del ",
     "library": "var_list.py",
     "varRefreshCmd": "print(var_dic_list())"
    },
    "r": {
     "delete_cmd_postfix": ") ",
     "delete_cmd_prefix": "rm(",
     "library": "var_list.r",
     "varRefreshCmd": "cat(var_dic_list()) "
    }
   },
   "types_to_exclude": [
    "module",
    "function",
    "builtin_function_or_method",
    "instance",
    "_Feature"
   ],
   "window_display": false
  }
 },
 "nbformat": 4,
 "nbformat_minor": 4
}
