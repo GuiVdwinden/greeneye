{
 "cells": [
  {
   "cell_type": "code",
   "execution_count": 1,
   "metadata": {
    "scrolled": false
   },
   "outputs": [
    {
     "name": "stdout",
     "output_type": "stream",
     "text": [
      "/c/Users/Windows10/code/GuiVdwinden/greeneye/notebooks\n"
     ]
    }
   ],
   "source": [
    "!pwd"
   ]
  },
  {
   "cell_type": "code",
   "execution_count": 2,
   "metadata": {},
   "outputs": [],
   "source": [
    "import pandas as pd"
   ]
  },
  {
   "cell_type": "code",
   "execution_count": 3,
   "metadata": {},
   "outputs": [],
   "source": [
    "data= pd.read_csv('../EncodedData.csv')"
   ]
  },
  {
   "cell_type": "code",
   "execution_count": 4,
   "metadata": {},
   "outputs": [],
   "source": [
    "alltags = [ 'clear', 'cloudy', 'haze', 'partly cloudy',        #the cloud coverage goes first!     \n",
    "           'agriculture', 'artisinal mine', 'bare ground', 'blooming', \n",
    "           'blow down', 'cultivation', 'habitation', 'primary', 'road', \n",
    "        'selective logging', 'conventional mine', 'slashu burn','water']"
   ]
  },
  {
   "cell_type": "markdown",
   "metadata": {},
   "source": [
    "#  load the dataset and tweak the names of the files so you can make it compatible"
   ]
  },
  {
   "cell_type": "code",
   "execution_count": 10,
   "metadata": {},
   "outputs": [
    {
     "data": {
      "text/html": [
       "<div>\n",
       "<style scoped>\n",
       "    .dataframe tbody tr th:only-of-type {\n",
       "        vertical-align: middle;\n",
       "    }\n",
       "\n",
       "    .dataframe tbody tr th {\n",
       "        vertical-align: top;\n",
       "    }\n",
       "\n",
       "    .dataframe thead th {\n",
       "        text-align: right;\n",
       "    }\n",
       "</style>\n",
       "<table border=\"1\" class=\"dataframe\">\n",
       "  <thead>\n",
       "    <tr style=\"text-align: right;\">\n",
       "      <th></th>\n",
       "      <th>image_name</th>\n",
       "      <th>tags</th>\n",
       "      <th>taglist</th>\n",
       "      <th>clear</th>\n",
       "      <th>cloudy</th>\n",
       "      <th>haze</th>\n",
       "      <th>partly cloudy</th>\n",
       "      <th>agriculture</th>\n",
       "      <th>artisinal mine</th>\n",
       "      <th>bare ground</th>\n",
       "      <th>...</th>\n",
       "      <th>blow down</th>\n",
       "      <th>cultivation</th>\n",
       "      <th>habitation</th>\n",
       "      <th>primary</th>\n",
       "      <th>road</th>\n",
       "      <th>selective logging</th>\n",
       "      <th>conventional mine</th>\n",
       "      <th>slashu burn</th>\n",
       "      <th>water</th>\n",
       "      <th>result_id</th>\n",
       "    </tr>\n",
       "  </thead>\n",
       "  <tbody>\n",
       "    <tr>\n",
       "      <th>0</th>\n",
       "      <td>train_0</td>\n",
       "      <td>haze primary</td>\n",
       "      <td>['haze', 'primary']</td>\n",
       "      <td>0</td>\n",
       "      <td>0</td>\n",
       "      <td>1</td>\n",
       "      <td>0</td>\n",
       "      <td>0</td>\n",
       "      <td>0</td>\n",
       "      <td>0</td>\n",
       "      <td>...</td>\n",
       "      <td>0</td>\n",
       "      <td>0</td>\n",
       "      <td>0</td>\n",
       "      <td>1</td>\n",
       "      <td>0</td>\n",
       "      <td>0</td>\n",
       "      <td>0</td>\n",
       "      <td>0</td>\n",
       "      <td>0</td>\n",
       "      <td>'00100000000100000'</td>\n",
       "    </tr>\n",
       "    <tr>\n",
       "      <th>1</th>\n",
       "      <td>train_1</td>\n",
       "      <td>agriculture clear primary water</td>\n",
       "      <td>['clear', 'agriculture', 'primary', 'water']</td>\n",
       "      <td>1</td>\n",
       "      <td>0</td>\n",
       "      <td>0</td>\n",
       "      <td>0</td>\n",
       "      <td>1</td>\n",
       "      <td>0</td>\n",
       "      <td>0</td>\n",
       "      <td>...</td>\n",
       "      <td>0</td>\n",
       "      <td>0</td>\n",
       "      <td>0</td>\n",
       "      <td>1</td>\n",
       "      <td>0</td>\n",
       "      <td>0</td>\n",
       "      <td>0</td>\n",
       "      <td>0</td>\n",
       "      <td>1</td>\n",
       "      <td>'10001000000100001'</td>\n",
       "    </tr>\n",
       "    <tr>\n",
       "      <th>2</th>\n",
       "      <td>train_2</td>\n",
       "      <td>clear primary</td>\n",
       "      <td>['clear', 'primary']</td>\n",
       "      <td>1</td>\n",
       "      <td>0</td>\n",
       "      <td>0</td>\n",
       "      <td>0</td>\n",
       "      <td>0</td>\n",
       "      <td>0</td>\n",
       "      <td>0</td>\n",
       "      <td>...</td>\n",
       "      <td>0</td>\n",
       "      <td>0</td>\n",
       "      <td>0</td>\n",
       "      <td>1</td>\n",
       "      <td>0</td>\n",
       "      <td>0</td>\n",
       "      <td>0</td>\n",
       "      <td>0</td>\n",
       "      <td>0</td>\n",
       "      <td>'10000000000100000'</td>\n",
       "    </tr>\n",
       "    <tr>\n",
       "      <th>3</th>\n",
       "      <td>train_3</td>\n",
       "      <td>clear primary</td>\n",
       "      <td>['clear', 'primary']</td>\n",
       "      <td>1</td>\n",
       "      <td>0</td>\n",
       "      <td>0</td>\n",
       "      <td>0</td>\n",
       "      <td>0</td>\n",
       "      <td>0</td>\n",
       "      <td>0</td>\n",
       "      <td>...</td>\n",
       "      <td>0</td>\n",
       "      <td>0</td>\n",
       "      <td>0</td>\n",
       "      <td>1</td>\n",
       "      <td>0</td>\n",
       "      <td>0</td>\n",
       "      <td>0</td>\n",
       "      <td>0</td>\n",
       "      <td>0</td>\n",
       "      <td>'10000000000100000'</td>\n",
       "    </tr>\n",
       "    <tr>\n",
       "      <th>4</th>\n",
       "      <td>train_4</td>\n",
       "      <td>agriculture clear habitation primary road</td>\n",
       "      <td>['clear', 'agriculture', 'habitation', 'primar...</td>\n",
       "      <td>1</td>\n",
       "      <td>0</td>\n",
       "      <td>0</td>\n",
       "      <td>0</td>\n",
       "      <td>1</td>\n",
       "      <td>0</td>\n",
       "      <td>0</td>\n",
       "      <td>...</td>\n",
       "      <td>0</td>\n",
       "      <td>0</td>\n",
       "      <td>1</td>\n",
       "      <td>1</td>\n",
       "      <td>1</td>\n",
       "      <td>0</td>\n",
       "      <td>0</td>\n",
       "      <td>0</td>\n",
       "      <td>0</td>\n",
       "      <td>'10001000001110000'</td>\n",
       "    </tr>\n",
       "  </tbody>\n",
       "</table>\n",
       "<p>5 rows × 21 columns</p>\n",
       "</div>"
      ],
      "text/plain": [
       "  image_name                                       tags  \\\n",
       "0    train_0                               haze primary   \n",
       "1    train_1            agriculture clear primary water   \n",
       "2    train_2                              clear primary   \n",
       "3    train_3                              clear primary   \n",
       "4    train_4  agriculture clear habitation primary road   \n",
       "\n",
       "                                             taglist  clear  cloudy  haze  \\\n",
       "0                                ['haze', 'primary']      0       0     1   \n",
       "1       ['clear', 'agriculture', 'primary', 'water']      1       0     0   \n",
       "2                               ['clear', 'primary']      1       0     0   \n",
       "3                               ['clear', 'primary']      1       0     0   \n",
       "4  ['clear', 'agriculture', 'habitation', 'primar...      1       0     0   \n",
       "\n",
       "   partly cloudy  agriculture  artisinal mine  bare ground  ...  blow down  \\\n",
       "0              0            0               0            0  ...          0   \n",
       "1              0            1               0            0  ...          0   \n",
       "2              0            0               0            0  ...          0   \n",
       "3              0            0               0            0  ...          0   \n",
       "4              0            1               0            0  ...          0   \n",
       "\n",
       "   cultivation  habitation  primary  road  selective logging  \\\n",
       "0            0           0        1     0                  0   \n",
       "1            0           0        1     0                  0   \n",
       "2            0           0        1     0                  0   \n",
       "3            0           0        1     0                  0   \n",
       "4            0           1        1     1                  0   \n",
       "\n",
       "   conventional mine  slashu burn  water            result_id  \n",
       "0                  0            0      0  '00100000000100000'  \n",
       "1                  0            0      1  '10001000000100001'  \n",
       "2                  0            0      0  '10000000000100000'  \n",
       "3                  0            0      0  '10000000000100000'  \n",
       "4                  0            0      0  '10001000001110000'  \n",
       "\n",
       "[5 rows x 21 columns]"
      ]
     },
     "execution_count": 10,
     "metadata": {},
     "output_type": "execute_result"
    }
   ],
   "source": [
    "data.head()"
   ]
  },
  {
   "cell_type": "code",
   "execution_count": 14,
   "metadata": {},
   "outputs": [],
   "source": [
    "data['image_name'] = data['image_name'] + '.jpg'"
   ]
  },
  {
   "cell_type": "code",
   "execution_count": 15,
   "metadata": {
    "scrolled": true
   },
   "outputs": [
    {
     "data": {
      "text/plain": [
       "0    train_0.jpg\n",
       "1    train_1.jpg\n",
       "2    train_2.jpg\n",
       "3    train_3.jpg\n",
       "4    train_4.jpg\n",
       "Name: image_name, dtype: object"
      ]
     },
     "execution_count": 15,
     "metadata": {},
     "output_type": "execute_result"
    }
   ],
   "source": [
    "data['image_name'].head()"
   ]
  },
  {
   "cell_type": "markdown",
   "metadata": {},
   "source": [
    "-----"
   ]
  },
  {
   "cell_type": "markdown",
   "metadata": {},
   "source": [
    "[the documents for imagedatagenerator](https://www.tensorflow.org/api_docs/python/tf/keras/preprocessing/image/ImageDataGenerator#random_transform)"
   ]
  },
  {
   "cell_type": "code",
   "execution_count": 5,
   "metadata": {},
   "outputs": [],
   "source": [
    "from tensorflow.keras.preprocessing.image import ImageDataGenerator"
   ]
  },
  {
   "cell_type": "code",
   "execution_count": 135,
   "metadata": {},
   "outputs": [],
   "source": [
    "#instantiate the data generator and input the transformatons you want\n",
    "datagen = ImageDataGenerator()\n",
    "test_datagen=ImageDataGenerator()"
   ]
  },
  {
   "cell_type": "markdown",
   "metadata": {},
   "source": [
    "----"
   ]
  },
  {
   "cell_type": "code",
   "execution_count": 136,
   "metadata": {},
   "outputs": [
    {
     "name": "stdout",
     "output_type": "stream",
     "text": [
      "Found 700 validated image filenames.\n"
     ]
    }
   ],
   "source": [
    "train_generator = datagen.flow_from_dataframe(\n",
    "                                            dataframe=data[0:700],\n",
    "                                            directory=\"../notebooks/sample/\",\n",
    "                                            x_col=\"image_name\",\n",
    "                                            y_col=alltags,\n",
    "                                            batch_size=32,\n",
    "                                            seed=42,\n",
    "                                            shuffle=False,\n",
    "                                            class_mode=\"raw\",  #look into this later\n",
    "                                            #target_size=(100,100)\n",
    ")"
   ]
  },
  {
   "cell_type": "code",
   "execution_count": 80,
   "metadata": {
    "scrolled": false
   },
   "outputs": [
    {
     "name": "stdout",
     "output_type": "stream",
     "text": [
      "Found 300 validated image filenames.\n"
     ]
    }
   ],
   "source": [
    "valid_generator=test_datagen.flow_from_dataframe(\n",
    "                                                dataframe=data[700:1000],\n",
    "                                                directory=\"../notebooks/sample/\",\n",
    "                                                x_col=\"image_name\",\n",
    "                                                y_col=alltags,\n",
    "                                                batch_size=32,\n",
    "                                                seed=42,\n",
    "                                                shuffle=False,\n",
    "                                                class_mode=\"raw\",\n",
    "                                                #target_size=(100,100)\n",
    ")"
   ]
  },
  {
   "cell_type": "code",
   "execution_count": 101,
   "metadata": {
    "scrolled": false
   },
   "outputs": [
    {
     "name": "stdout",
     "output_type": "stream",
     "text": [
      "Found 200 validated image filenames.\n"
     ]
    }
   ],
   "source": [
    "test_generator=test_datagen.flow_from_dataframe(\n",
    "                                                dataframe=data[1000:1200],\n",
    "                                                directory=\"../notebooks/sample/\",\n",
    "                                                x_col=\"image_name\",\n",
    "                                                y_col=alltags,\n",
    "                                                batch_size=32,\n",
    "                                                seed=42,\n",
    "                                                shuffle=False,\n",
    "                                                class_mode=\"raw\",\n",
    "                                                #target_size=(100,100)\n",
    ")"
   ]
  },
  {
   "cell_type": "code",
   "execution_count": 102,
   "metadata": {},
   "outputs": [
    {
     "name": "stdout",
     "output_type": "stream",
     "text": [
      "Found 1 validated image filenames.\n"
     ]
    }
   ],
   "source": [
    "sample_predict=test_datagen.flow_from_dataframe(\n",
    "                                                dataframe=data[1200:1201],\n",
    "                                                directory=\"../notebooks/sample/\",\n",
    "                                                x_col=\"image_name\",\n",
    "#                                                y_col=alltags,\n",
    "                                                batch_size=32,\n",
    "                                                seed=42,\n",
    "                                                shuffle=False,\n",
    "                                                class_mode=None,\n",
    "                                                #target_size=(100,100)\n",
    ")"
   ]
  },
  {
   "cell_type": "markdown",
   "metadata": {},
   "source": [
    "----"
   ]
  },
  {
   "cell_type": "markdown",
   "metadata": {},
   "source": [
    "-----"
   ]
  },
  {
   "cell_type": "markdown",
   "metadata": {},
   "source": [
    "# train a dummy model"
   ]
  },
  {
   "cell_type": "code",
   "execution_count": 57,
   "metadata": {},
   "outputs": [],
   "source": [
    "from tensorflow.keras.models import Sequential\n",
    "from tensorflow.keras import layers\n",
    "\n",
    "model = Sequential()\n",
    "model.add(layers.Conv2D(17,  # number of filters (the dimensionality of the output space) \n",
    "                        (2,2),  #kernel size\n",
    "                        input_shape=(256, 256, 3), #the kernel moving in a fixed number of pixels in each direction\n",
    "                         activation= 'relu'))\n",
    "\n",
    "# It is common to have at least 2 or 3 layers, where the kernel size decreases and number of filters \n",
    "# increases (compared to the previous layers) => we will see the reason why in the exercises\n",
    "\n",
    "model.add(layers.Flatten())\n",
    "\n",
    "model.add(layers.Dense(17, activation='softmax'))  #IT HAS TO HAVE THE SAME AMOUNT OF FEATURES\n",
    "\n",
    "model.compile(loss='categorical_crossentropy',\n",
    "              optimizer='adam',\n",
    "              metrics=['accuracy'])"
   ]
  },
  {
   "cell_type": "code",
   "execution_count": 137,
   "metadata": {},
   "outputs": [
    {
     "name": "stdout",
     "output_type": "stream",
     "text": [
      "Epoch 1/10\n",
      "22/22 [==============================] - 23s 1s/step - loss: 36328.1016 - accuracy: 0.1443 - val_loss: 7835522.5000 - val_accuracy: 0.0067\n",
      "Epoch 2/10\n",
      "22/22 [==============================] - 27s 1s/step - loss: 39417.2227 - accuracy: 0.2743 - val_loss: 7125731.5000 - val_accuracy: 0.6733\n",
      "Epoch 3/10\n",
      "22/22 [==============================] - 26s 1s/step - loss: 38542.5195 - accuracy: 0.6900 - val_loss: 6666187.0000 - val_accuracy: 0.6500\n",
      "Epoch 4/10\n",
      "22/22 [==============================] - 26s 1s/step - loss: 35034.6055 - accuracy: 0.6271 - val_loss: 6159475.0000 - val_accuracy: 0.2700\n",
      "Epoch 5/10\n",
      "22/22 [==============================] - 26s 1s/step - loss: 33638.6133 - accuracy: 0.5614 - val_loss: 5648846.0000 - val_accuracy: 0.4533\n",
      "Epoch 6/10\n",
      "22/22 [==============================] - 19s 877ms/step - loss: 30546.7949 - accuracy: 0.4471 - val_loss: 5386926.5000 - val_accuracy: 0.1300\n",
      "Epoch 7/10\n",
      "22/22 [==============================] - 19s 867ms/step - loss: 31676.7520 - accuracy: 0.3171 - val_loss: 5346893.0000 - val_accuracy: 0.2033\n",
      "Epoch 8/10\n",
      "22/22 [==============================] - 19s 852ms/step - loss: 30193.8535 - accuracy: 0.3543 - val_loss: 5351004.0000 - val_accuracy: 0.1967\n",
      "Epoch 9/10\n",
      "22/22 [==============================] - 19s 854ms/step - loss: 32124.2051 - accuracy: 0.3829 - val_loss: 5342402.0000 - val_accuracy: 0.1833\n",
      "Epoch 10/10\n",
      "22/22 [==============================] - 18s 838ms/step - loss: 30467.6094 - accuracy: 0.3986 - val_loss: 5330794.0000 - val_accuracy: 0.1800\n"
     ]
    }
   ],
   "source": [
    "history = model.fit(x=train_generator,\n",
    "          batch_size= 32,\n",
    "          validation_data=valid_generator,\n",
    "          epochs = 10\n",
    "         )"
   ]
  },
  {
   "cell_type": "code",
   "execution_count": 138,
   "metadata": {},
   "outputs": [
    {
     "name": "stdout",
     "output_type": "stream",
     "text": [
      "7/7 [==============================] - 1s 124ms/step - loss: 4494928.5000 - accuracy: 0.1800\n"
     ]
    },
    {
     "data": {
      "text/plain": [
       "[4494928.5, 0.18000000715255737]"
      ]
     },
     "execution_count": 138,
     "metadata": {},
     "output_type": "execute_result"
    }
   ],
   "source": [
    "model.evaluate(test_generator)"
   ]
  },
  {
   "cell_type": "markdown",
   "metadata": {},
   "source": [
    "---------"
   ]
  },
  {
   "cell_type": "markdown",
   "metadata": {},
   "source": [
    "## lets make a simple prediction"
   ]
  },
  {
   "cell_type": "code",
   "execution_count": 125,
   "metadata": {},
   "outputs": [],
   "source": [
    "a= model.predict(sample_predict)"
   ]
  },
  {
   "cell_type": "code",
   "execution_count": 126,
   "metadata": {},
   "outputs": [
    {
     "data": {
      "text/plain": [
       "array([[0., 0., 0., 0., 0., 0., 0., 0., 0., 0., 0., 1., 0., 0., 0., 0.,\n",
       "        0.]], dtype=float32)"
      ]
     },
     "execution_count": 126,
     "metadata": {},
     "output_type": "execute_result"
    }
   ],
   "source": [
    "a"
   ]
  },
  {
   "cell_type": "markdown",
   "metadata": {},
   "source": [
    "## let's plot it"
   ]
  },
  {
   "cell_type": "code",
   "execution_count": 131,
   "metadata": {},
   "outputs": [],
   "source": [
    "import matplotlib.pyplot as plt\n",
    "def plot_loss_accuracy(history):\n",
    "    plt.plot(history.history['loss'])\n",
    "    plt.plot(history.history['val_loss'])\n",
    "    plt.title('Model loss')\n",
    "    plt.ylabel('Loss')\n",
    "    plt.xlabel('Epoch')\n",
    "    plt.legend(['Train', 'Test'], loc='best')\n",
    "    plt.show()\n",
    "    \n",
    "    plt.plot(history.history['accuracy'])\n",
    "    plt.plot(history.history['val_accuracy'])\n",
    "    plt.title('Model Accuracy')\n",
    "    plt.ylabel('Accuracy')\n",
    "    plt.xlabel('Epoch')\n",
    "    plt.legend(['Train', 'Test'], loc='best')\n",
    "    plt.show()"
   ]
  },
  {
   "cell_type": "code",
   "execution_count": 132,
   "metadata": {
    "scrolled": true
   },
   "outputs": [
    {
     "data": {
      "image/png": "[encoded data removed]",
      "text/plain": [
       "<Figure size 432x288 with 1 Axes>"
      ]
     },
     "metadata": {
      "needs_background": "light"
     },
     "output_type": "display_data"
    },
    {
     "data": {
      "image/png": "[encoded data removed]",
      "text/plain": [
       "<Figure size 432x288 with 1 Axes>"
      ]
     },
     "metadata": {
      "needs_background": "light"
     },
     "output_type": "display_data"
    }
   ],
   "source": [
    "plot_loss_accuracy(history)"
   ]
  },
  {
   "cell_type": "code",
   "execution_count": 127,
   "metadata": {
    "scrolled": true
   },
   "outputs": [
    {
     "data": {
      "text/plain": [
       "{'loss': [5302269.0, 5161207.5, 4600611.0],\n",
       " 'accuracy': [0.24571429193019867, 0.2914285659790039, 0.272857129573822],\n",
       " 'val_loss': [6142432.5, 4939088.5, 4661467.5],\n",
       " 'val_accuracy': [0.6933333277702332, 0.1433333307504654, 0.14666666090488434]}"
      ]
     },
     "execution_count": 127,
     "metadata": {},
     "output_type": "execute_result"
    }
   ],
   "source": [
    "history.history"
   ]
  },
  {
   "cell_type": "markdown",
   "metadata": {},
   "source": [
    "----"
   ]
  },
  {
   "cell_type": "code",
   "execution_count": 120,
   "metadata": {},
   "outputs": [
    {
     "data": {
      "image/png": "[encoded data removed]",
      "text/plain": [
       "<Figure size 432x288 with 1 Axes>"
      ]
     },
     "metadata": {
      "needs_background": "light"
     },
     "output_type": "display_data"
    }
   ],
   "source": [
    "plot_history(history)"
   ]
  },
  {
   "cell_type": "code",
   "execution_count": 106,
   "metadata": {},
   "outputs": [
    {
     "name": "stdout",
     "output_type": "stream",
     "text": [
      "INFO:tensorflow:Assets written to: ../../../localdata/models/dummymodel_good!\\assets\n"
     ]
    }
   ],
   "source": [
    "#now save the model\n",
    "from tensorflow.keras import models\n",
    "\n",
    "models.save_model(model, \n",
    "                  '../../../localdata/models/dummymodel_good!',  #filepath\n",
    "                  overwrite=True, \n",
    "                  include_optimizer=True, #important hehe\n",
    ")     "
   ]
  },
  {
   "cell_type": "code",
   "execution_count": null,
   "metadata": {},
   "outputs": [],
   "source": [
    "#if you want to save it use:\n",
    "\n",
    "'''tf.keras.models.load_model(\n",
    "    filepath, custom_objects=None, compile=True, options=None)\n",
    "'''"
   ]
  },
  {
   "cell_type": "markdown",
   "metadata": {},
   "source": [
    "----"
   ]
  },
  {
   "cell_type": "markdown",
   "metadata": {},
   "source": [
    "# to do "
   ]
  },
  {
   "cell_type": "markdown",
   "metadata": {},
   "source": [
    "[check the docs!](https://www.tensorflow.org/api_docs/python/tf/keras/models)"
   ]
  },
  {
   "cell_type": "code",
   "execution_count": null,
   "metadata": {},
   "outputs": [],
   "source": [
    "from tensorflow.keras import models\n",
    "\n",
    "'''save it'''\n",
    "from tensorflow.keras import models\n",
    "\n",
    "models.save_model(model, \n",
    "                  'my_model',  #filepath\n",
    "                  overwrite=True, \n",
    "                  include_optimizer=True, #important hehe\n",
    "                  save_format=None,      #dunno\n",
    "                  signatures=None,     #also dunno\n",
    "                  options=None)      #also also also dunno\n",
    "\n",
    "\n",
    "'''and you can load it somewhere else :'''\n",
    "loaded_model = models.load_model('my_model', \n",
    "                           custom_objects=None,  #dunno \n",
    "                           compile=True,  #compile it after loading? y/n\n",
    "                           options=None) #also dunno"
   ]
  },
  {
   "cell_type": "code",
   "execution_count": null,
   "metadata": {},
   "outputs": [],
   "source": [
    "import pickle\n",
    "\n",
    "# Load pipeline from pickle file\n",
    "my_pipeline = pickle.load(open(\"../03-Tuning-Pipeline/pipeline.pkl\",\"rb\"))\n",
    "\n",
    "my_pipeline"
   ]
  }
 ],
 "metadata": {
  "kernelspec": {
   "display_name": "Python 3",
   "language": "python",
   "name": "python3"
  },
  "language_info": {
   "codemirror_mode": {
    "name": "ipython",
    "version": 3
   },
   "file_extension": ".py",
   "mimetype": "text/x-python",
   "name": "python",
   "nbconvert_exporter": "python",
   "pygments_lexer": "ipython3",
   "version": "3.7.7"
  },
  "toc": {
   "base_numbering": 1,
   "nav_menu": {},
   "number_sections": true,
   "sideBar": true,
   "skip_h1_title": false,
   "title_cell": "Table of Contents",
   "title_sidebar": "Contents",
   "toc_cell": false,
   "toc_position": {},
   "toc_section_display": true,
   "toc_window_display": false
  }
 },
 "nbformat": 4,
 "nbformat_minor": 4
}
