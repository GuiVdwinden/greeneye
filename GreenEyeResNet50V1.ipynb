{
 "cells": [
  {
   "cell_type": "code",
   "execution_count": null,
   "metadata": {
    "id": "VJcmZXSQ7CGe"
   },
   "outputs": [],
   "source": []
  },
  {
   "cell_type": "markdown",
   "metadata": {
    "id": "6s5YWSIZ1ufS"
   },
   "source": [
    "# Looking at our data"
   ]
  },
  {
   "cell_type": "markdown",
   "metadata": {
    "id": "QbQ3PBdh1ufT"
   },
   "source": [
    "## 1. Load data"
   ]
  },
  {
   "cell_type": "code",
   "execution_count": 1,
   "metadata": {
    "colab": {
     "base_uri": "https://localhost:8080/"
    },
    "id": "mVqxTc7e1ufT",
    "outputId": "b832ed8c-1843-4518-b31f-469e23daf1a1"
   },
   "outputs": [
    {
     "name": "stdout",
     "output_type": "stream",
     "text": [
      "done\n"
     ]
    }
   ],
   "source": [
    "import numpy as np\n",
    "import pandas as pd\n",
    "import os\n",
    "import matplotlib.pyplot as plt\n",
    "import seaborn as sns\n",
    "\n",
    "import PIL\n",
    "import PIL.Image\n",
    "import cv2 as cv\n",
    "import scipy.ndimage as ndimage\n",
    "\n",
    "from tensorflow.keras import models, layers, preprocessing, backend\n",
    "from tensorflow.keras.callbacks import EarlyStopping, ModelCheckpoint, ReduceLROnPlateau\n",
    "from tensorflow.keras.applications.resnet50 import ResNet50, preprocess_input, decode_predictions\n",
    "from tensorflow.keras.optimizers import Adam, SGD\n",
    "\n",
    "print('done')"
   ]
  },
  {
   "cell_type": "markdown",
   "metadata": {
    "id": "15I4bSetI_jR"
   },
   "source": [
    "## Dehaze function"
   ]
  },
  {
   "cell_type": "code",
   "execution_count": 34,
   "metadata": {
    "id": "0e_CZESKI2lt"
   },
   "outputs": [],
   "source": [
    "def get_dark_channel_prior(img, w_size=15):  \n",
    "    J_dark = ndimage.minimum_filter(img, footprint=np.ones((w_size,w_size,3)), mode='nearest')        \n",
    "    return J_dark[:,:,1]\n",
    "\n",
    "def estimate_atmospheric_light(img, w_size=15):\n",
    "    size = img.shape[:2]\n",
    "    k = int(0.001*np.prod(size))\n",
    "    j_dark = get_dark_channel_prior(img, w_size=w_size)\n",
    "    idx = np.argpartition(-j_dark.ravel(),k)[:k]\n",
    "    x, y = np.hsplit(np.column_stack(np.unravel_index(idx, size)), 2)\n",
    "    A = np.array([img[x,y,0].max(), img[x,y,1].max(), img[x,y,2].max()])\n",
    "    return A\n",
    "\n",
    "def estimate_transmission(img, omega=0.95, w_size=15):\n",
    "    A= estimate_atmospheric_light(img)\n",
    "    norm_img = img / A\n",
    "    norm_img_dc = get_dark_channel_prior(norm_img, w_size=w_size)\n",
    "    return 1 - omega*norm_img_dc\n",
    "\n",
    "def guided_filter(I, p, omega=60, eps=0.01):\n",
    "    w_size = (omega,omega)\n",
    "    I = I/255\n",
    "    I_r, I_g, I_b = I[:,:,0], I[:,:,1], I[:,:,2]\n",
    "    \n",
    "    mean_I_r = cv.blur(I_r, w_size)\n",
    "    mean_I_g = cv.blur(I_g, w_size)\n",
    "    mean_I_b = cv.blur(I_b, w_size)\n",
    "    \n",
    "    mean_p = cv.blur(p, w_size)\n",
    "    \n",
    "    mean_Ip_r = cv.blur(I_r*p, w_size)\n",
    "    mean_Ip_g = cv.blur(I_g*p, w_size)\n",
    "    mean_Ip_b = cv.blur(I_b*p, w_size)\n",
    "         \n",
    "    cov_Ip_r =  mean_Ip_r - mean_I_r*mean_p\n",
    "    cov_Ip_g =  mean_Ip_g - mean_I_g*mean_p\n",
    "    cov_Ip_b =  mean_Ip_b - mean_I_b*mean_p\n",
    "    cov_Ip = np.stack([cov_Ip_r, cov_Ip_g, cov_Ip_b], axis=-1)\n",
    "    \n",
    "    var_I_rr = cv.blur(I_r*I_r, w_size) - mean_I_r*mean_I_r\n",
    "    var_I_rg = cv.blur(I_r*I_g, w_size) - mean_I_r*mean_I_g\n",
    "    var_I_rb = cv.blur(I_r*I_b, w_size) - mean_I_r*mean_I_b\n",
    "    var_I_gb = cv.blur(I_g*I_b, w_size) - mean_I_g*mean_I_b\n",
    "    var_I_gg = cv.blur(I_g*I_g, w_size) - mean_I_g*mean_I_g\n",
    "    var_I_bb = cv.blur(I_b*I_b, w_size) - mean_I_b*mean_I_b\n",
    "    \n",
    "    a = np.zeros(I.shape)\n",
    "    for x, y in np.ndindex(I.shape[:2]):\n",
    "        Sigma = np.array([\n",
    "            [var_I_rr[x,y], var_I_rg[x,y], var_I_rb[x,y]],\n",
    "            [var_I_rg[x,y], var_I_gg[x,y], var_I_gb[x,y]],\n",
    "            [var_I_rb[x,y], var_I_gb[x,y], var_I_bb[x,y]]\n",
    "        ])\n",
    "        c = cov_Ip[x,y,:]\n",
    "        \n",
    "        a[x,y,:] = np.linalg.inv(Sigma + eps*np.eye(3)).dot(c)\n",
    "        \n",
    "    mean_a = np.stack([cv.blur(a[:,:,0], w_size), cv.blur(a[:,:,1], w_size), cv.blur(a[:,:,2], w_size)], axis=-1)\n",
    "    mean_I = np.stack([mean_I_r, mean_I_g, mean_I_b], axis=-1)\n",
    "    \n",
    "    b = mean_p - np.sum(a*mean_I, axis=2)\n",
    "    mean_b = cv.blur(b, w_size)\n",
    "    q = np.sum(mean_a*I, axis=2) + mean_b\n",
    "    \n",
    "    return q\n",
    "\n",
    "def haze_removal(img, w_size=15, a_omega=0.95, gf_w_size=200, eps=1e-6):\n",
    "    img = img.astype(np.int16)\n",
    "    A = estimate_atmospheric_light(img, w_size=w_size)\n",
    "    alpha_map = estimate_transmission(img, omega=a_omega, w_size=w_size)\n",
    "    f_alpha_map = guided_filter(img, alpha_map, omega=gf_w_size, eps=eps)\n",
    "    \n",
    "    img[:,:,0] -= A[0]\n",
    "    img[:,:,1] -= A[1]\n",
    "    img[:,:,2] -= A[2]\n",
    "    z = np.maximum(f_alpha_map, 0.1)\n",
    "    img[:,:,0] = img[:,:,0]/z\n",
    "    img[:,:,1] = img[:,:,1]/z\n",
    "    img[:,:,2] = img[:,:,2]/z\n",
    "\n",
    "    img[:,:,0] += A[0]\n",
    "    img[:,:,1] += A[1]\n",
    "    img[:,:,2] += A[2]\n",
    "\n",
    "    img = np.maximum(img, 0)\n",
    "    img = np.minimum(img, 255)\n",
    "    \n",
    "    return img/255"
   ]
  },
  {
   "cell_type": "markdown",
   "metadata": {
    "id": "jJMCwk_31ufT"
   },
   "source": [
    "### 1.1 Load classification file"
   ]
  },
  {
   "cell_type": "code",
   "execution_count": 3,
   "metadata": {
    "id": "blxZDn023qS3"
   },
   "outputs": [],
   "source": [
    "# For loading data from google cloud into colab\n",
    "\n",
    "project_id = project_id\n",
    "bucket_name = bucket_name\n",
    "#from google.colab import auth\n",
    "#auth.authenticate_user()"
   ]
  },
  {
   "cell_type": "code",
   "execution_count": 4,
   "metadata": {
    "colab": {
     "base_uri": "https://localhost:8080/"
    },
    "id": "oEMmelg4nV_u",
    "outputId": "a70b4e9b-8a03-4978-e71e-54760a493d9d"
   },
   "outputs": [
    {
     "name": "stdout",
     "output_type": "stream",
     "text": [
      "Copying gs://brazil_amazon_sat_images/train_classes.csv...\n",
      "/ [1 files][  1.4 MiB/  1.4 MiB]                                                \n",
      "Operation completed over 1 objects/1.4 MiB.                                      \n"
     ]
    }
   ],
   "source": [
    "#!gsutil cp gs://{bucket_name}/train_classes.csv /tmp/train_classes.csv"
   ]
  },
  {
   "cell_type": "code",
   "execution_count": 5,
   "metadata": {
    "colab": {
     "base_uri": "https://localhost:8080/"
    },
    "id": "-PkndNsKnk3c",
    "outputId": "843d05ea-c8de-41d2-b7a5-4623e6b05a28"
   },
   "outputs": [
    {
     "name": "stdout",
     "output_type": "stream",
     "text": [
      "Copying gs://brazil_amazon_sat_images/train-jpg.zip...\n",
      "| [1 files][610.6 MiB/610.6 MiB]                                                \n",
      "Operation completed over 1 objects/610.6 MiB.                                    \n"
     ]
    }
   ],
   "source": [
    "#!gsutil cp gs://{bucket_name}/train-jpg.zip /tmp/train-jpg"
   ]
  },
  {
   "cell_type": "code",
   "execution_count": 6,
   "metadata": {
    "id": "TvdbuAFd1ufT"
   },
   "outputs": [],
   "source": [
    "train_classes = pd.read_csv(file_path)"
   ]
  },
  {
   "cell_type": "code",
   "execution_count": null,
   "metadata": {
    "id": "wgaNmz3m-zMi"
   },
   "outputs": [],
   "source": [
    "# if image folder is a zip file\n",
    "#!unzip /tmp/train-jpg"
   ]
  },
  {
   "cell_type": "markdown",
   "metadata": {
    "id": "fku6g7XN1ufT"
   },
   "source": [
    "### 1.2. Edit classification data"
   ]
  },
  {
   "cell_type": "code",
   "execution_count": 8,
   "metadata": {
    "id": "tx0W5cNC1ufT"
   },
   "outputs": [],
   "source": [
    "labels = []\n",
    "for i in train_classes['tags']:\n",
    "    for x in i.split(' '):\n",
    "        if x not in labels:\n",
    "            labels.append(x)\n",
    "\n",
    "train_classes['tag_list'] = train_classes['tags'].apply(lambda x: x.split(' '))\n",
    "train_classes['image_name'] = train_classes['image_name'].apply(lambda x: (x + '.jpg') if '.jpg' not in x else x)"
   ]
  },
  {
   "cell_type": "code",
   "execution_count": 9,
   "metadata": {
    "id": "zGocXX8RRMQn"
   },
   "outputs": [],
   "source": [
    "for i in labels:\n",
    "    train_classes[i] = train_classes['tag_list'].apply(lambda x:1 if i in x else 0)"
   ]
  },
  {
   "cell_type": "code",
   "execution_count": 10,
   "metadata": {
    "colab": {
     "base_uri": "https://localhost:8080/",
     "height": 97
    },
    "id": "BmyfOf1vQcjj",
    "outputId": "4b2a1989-6049-4360-de0d-7d05f687a720"
   },
   "outputs": [
    {
     "data": {
      "text/html": [
       "<div>\n",
       "<style scoped>\n",
       "    .dataframe tbody tr th:only-of-type {\n",
       "        vertical-align: middle;\n",
       "    }\n",
       "\n",
       "    .dataframe tbody tr th {\n",
       "        vertical-align: top;\n",
       "    }\n",
       "\n",
       "    .dataframe thead th {\n",
       "        text-align: right;\n",
       "    }\n",
       "</style>\n",
       "<table border=\"1\" class=\"dataframe\">\n",
       "  <thead>\n",
       "    <tr style=\"text-align: right;\">\n",
       "      <th></th>\n",
       "      <th>image_name</th>\n",
       "      <th>tags</th>\n",
       "      <th>tag_list</th>\n",
       "      <th>haze</th>\n",
       "      <th>primary</th>\n",
       "      <th>agriculture</th>\n",
       "      <th>clear</th>\n",
       "      <th>water</th>\n",
       "      <th>habitation</th>\n",
       "      <th>road</th>\n",
       "      <th>cultivation</th>\n",
       "      <th>slash_burn</th>\n",
       "      <th>cloudy</th>\n",
       "      <th>partly_cloudy</th>\n",
       "      <th>conventional_mine</th>\n",
       "      <th>bare_ground</th>\n",
       "      <th>artisinal_mine</th>\n",
       "      <th>blooming</th>\n",
       "      <th>selective_logging</th>\n",
       "      <th>blow_down</th>\n",
       "    </tr>\n",
       "  </thead>\n",
       "  <tbody>\n",
       "    <tr>\n",
       "      <th>24448</th>\n",
       "      <td>train_24448.jpg</td>\n",
       "      <td>water</td>\n",
       "      <td>[water]</td>\n",
       "      <td>0</td>\n",
       "      <td>0</td>\n",
       "      <td>0</td>\n",
       "      <td>0</td>\n",
       "      <td>1</td>\n",
       "      <td>0</td>\n",
       "      <td>0</td>\n",
       "      <td>0</td>\n",
       "      <td>0</td>\n",
       "      <td>0</td>\n",
       "      <td>0</td>\n",
       "      <td>0</td>\n",
       "      <td>0</td>\n",
       "      <td>0</td>\n",
       "      <td>0</td>\n",
       "      <td>0</td>\n",
       "      <td>0</td>\n",
       "    </tr>\n",
       "  </tbody>\n",
       "</table>\n",
       "</div>"
      ],
      "text/plain": [
       "            image_name   tags tag_list  ...  blooming  selective_logging  blow_down\n",
       "24448  train_24448.jpg  water  [water]  ...         0                  0          0\n",
       "\n",
       "[1 rows x 20 columns]"
      ]
     },
     "execution_count": 10,
     "metadata": {
      "tags": []
     },
     "output_type": "execute_result"
    }
   ],
   "source": [
    "no_weather_img_index = train_classes[train_classes['clear'] + train_classes['cloudy'] + train_classes['haze'] + train_classes['partly_cloudy'] != 1].index[0]"
   ]
  },
  {
   "cell_type": "code",
   "execution_count": 11,
   "metadata": {
    "id": "RzpiRsQzRaqo"
   },
   "outputs": [],
   "source": [
    "train_classes = train_classes.drop(no_weather_img_index)"
   ]
  },
  {
   "cell_type": "code",
   "execution_count": 12,
   "metadata": {
    "colab": {
     "base_uri": "https://localhost:8080/"
    },
    "id": "uKc7jj9qRzT8",
    "outputId": "ef635846-88fa-4fc0-833d-b4081330b26b"
   },
   "outputs": [
    {
     "name": "stdout",
     "output_type": "stream",
     "text": [
      "0\n"
     ]
    }
   ],
   "source": [
    "# Remove clear tag\n",
    "\n",
    "count=0\n",
    "for i in train_classes['tag_list']:\n",
    "    try:\n",
    "      i.remove('clear')\n",
    "    except ValueError:\n",
    "        pass\n",
    "print(count)"
   ]
  },
  {
   "cell_type": "code",
   "execution_count": 13,
   "metadata": {
    "colab": {
     "base_uri": "https://localhost:8080/"
    },
    "id": "letpl8ItXyH0",
    "outputId": "64ac400c-fd41-46e6-801a-50b4aa1ae102"
   },
   "outputs": [
    {
     "name": "stdout",
     "output_type": "stream",
     "text": [
      "37781\n"
     ]
    }
   ],
   "source": [
    "# Remove haze tag\n",
    "\n",
    "count=0\n",
    "for i in train_classes['tag_list']:\n",
    "    try:\n",
    "      i.remove('haze')\n",
    "    except ValueError:\n",
    "      count+=1\n",
    "print(count)"
   ]
  },
  {
   "cell_type": "markdown",
   "metadata": {
    "id": "xlIl6B5L1ufX"
   },
   "source": [
    "### 1.3. Make train and test data"
   ]
  },
  {
   "cell_type": "code",
   "execution_count": 14,
   "metadata": {
    "id": "Z3Oaq0-S1ufX"
   },
   "outputs": [],
   "source": [
    "train=train_classes.sample(frac=0.7,random_state=1)\n",
    "test=train_classes.drop(train.index)"
   ]
  },
  {
   "cell_type": "code",
   "execution_count": 42,
   "metadata": {
    "colab": {
     "base_uri": "https://localhost:8080/"
    },
    "id": "X6u99P2F1ufY",
    "outputId": "51b96e21-9f94-43d6-8d2d-ad188ea169f0"
   },
   "outputs": [
    {
     "name": "stdout",
     "output_type": "stream",
     "text": [
      "Found 21252 validated image filenames belonging to 15 classes.\n",
      "Found 7083 validated image filenames belonging to 15 classes.\n"
     ]
    }
   ],
   "source": [
    "datagen=preprocessing.image.ImageDataGenerator(rescale=1./255, shear_range=0.2,\n",
    "            horizontal_flip=True, vertical_flip=True, validation_split=0.25)\n",
    "train_gen=datagen.flow_from_dataframe(dataframe=train, \n",
    "                                directory=\"train-jpg\", x_col=\"image_name\", y_col=\"tag_list\", subset=\"training\", seed=42,\n",
    "                                shuffle=True, class_mode=\"categorical\", target_size=(128,128), batch_size=32)\n",
    "valid_gen=datagen.flow_from_dataframe(dataframe=train, \n",
    "                                directory=\"train-jpg\", x_col=\"image_name\", y_col=\"tag_list\", subset=\"validation\", seed=42,\n",
    "                                shuffle=True, class_mode=\"categorical\", target_size=(128,128), batch_size=32)\n"
   ]
  },
  {
   "cell_type": "code",
   "execution_count": 43,
   "metadata": {
    "colab": {
     "base_uri": "https://localhost:8080/"
    },
    "id": "qPP-vbDI1ufY",
    "outputId": "84df07b5-2945-4a45-b798-9f8d60dc8e08"
   },
   "outputs": [
    {
     "name": "stdout",
     "output_type": "stream",
     "text": [
      "Found 12143 validated image filenames belonging to 15 classes.\n"
     ]
    }
   ],
   "source": [
    "datagen_test=preprocessing.image.ImageDataGenerator(rescale=1./255)\n",
    "test_gen=datagen_test.flow_from_dataframe(dataframe=test, \n",
    "                                directory=\"train-jpg\", x_col=\"image_name\", y_col=\"tag_list\",\n",
    "                                class_mode=\"categorical\", target_size=(128,128), batch_size=32)"
   ]
  },
  {
   "cell_type": "code",
   "execution_count": 18,
   "metadata": {
    "colab": {
     "base_uri": "https://localhost:8080/"
    },
    "id": "ozGe_3wp1ufY",
    "outputId": "291ad4b0-d3de-4fab-80b3-f796fc076a44"
   },
   "outputs": [
    {
     "name": "stdout",
     "output_type": "stream",
     "text": [
      "21252\n",
      "32\n"
     ]
    }
   ],
   "source": [
    "print(train_gen.n)\n",
    "print(train_gen.batch_size)"
   ]
  },
  {
   "cell_type": "markdown",
   "metadata": {
    "id": "85jkT4b81ufY"
   },
   "source": [
    "### 1.4. Make model"
   ]
  },
  {
   "cell_type": "code",
   "execution_count": 20,
   "metadata": {
    "id": "27smU9GRr7zr"
   },
   "outputs": [],
   "source": [
    "# calculate fbeta score for multi-class/label classification\n",
    "def fbeta_round(y_true, y_pred, beta_sq=4):\n",
    "\t# clip predictions\n",
    "\ty_pred = backend.clip(y_pred, 0, 1)\n",
    "\t# calculate elements\n",
    "\ttp = backend.sum(backend.round(backend.clip(y_true * y_pred, 0, 1)), axis=1)\n",
    "\tfp = backend.sum(backend.round(backend.clip(y_pred - y_true, 0, 1)), axis=1)\n",
    "\tfn = backend.sum(backend.round(backend.clip(y_true - y_pred, 0, 1)), axis=1)\n",
    "\t# calculate precision\n",
    "\tprecision = tp / (tp + fp + backend.epsilon())\n",
    "\t# calculate recall\n",
    "\trecall = tp / (tp + fn + backend.epsilon())\n",
    "\t# calculate fbeta, averaged across each class\n",
    "\tfbeta_score = backend.mean((1 + beta_sq) * (precision * recall) / (beta_sq * precision + recall + backend.epsilon()))\n",
    "\treturn fbeta_score"
   ]
  },
  {
   "cell_type": "code",
   "execution_count": 21,
   "metadata": {
    "id": "xfZ_rXg6NYl8"
   },
   "outputs": [],
   "source": [
    "def fbeta(y_true, y_pred):\n",
    "    beta_squared = (1.5)**2\n",
    "\n",
    "    tp = backend.sum(y_true * y_pred) + backend.epsilon()\n",
    "    fp = backend.sum(y_pred) - tp\n",
    "    fn = backend.sum(y_true) - tp\n",
    "\n",
    "    precision = tp / (tp + fp)\n",
    "    recall = tp / (tp + fn)\n",
    "\n",
    "    result = (beta_squared + 1) * (precision * recall) / (beta_squared * precision + recall + backend.epsilon())\n",
    "\n",
    "    return result\n",
    "\n",
    "def f2(y_true, y_pred):\n",
    "    beta_squared = 4\n",
    "\n",
    "    tp = backend.sum(y_true * y_pred) + backend.epsilon()\n",
    "    fp = backend.sum(y_pred) - tp\n",
    "    fn = backend.sum(y_true) - tp\n",
    "\n",
    "    precision = tp / (tp + fp)\n",
    "    recall = tp / (tp + fn)\n",
    "\n",
    "    result = (beta_squared + 1) * (precision * recall) / (beta_squared * precision + recall + backend.epsilon())\n",
    "\n",
    "    return result"
   ]
  },
  {
   "cell_type": "code",
   "execution_count": 22,
   "metadata": {
    "colab": {
     "base_uri": "https://localhost:8080/"
    },
    "id": "baA4UZZ-1ufY",
    "outputId": "9235112c-6813-475c-dd2b-83b758b8f36c"
   },
   "outputs": [
    {
     "name": "stdout",
     "output_type": "stream",
     "text": [
      "Downloading data from https://storage.googleapis.com/tensorflow/keras-applications/resnet/resnet50_weights_tf_dim_ordering_tf_kernels_notop.h5\n",
      "94773248/94765736 [==============================] - 0s 0us/step\n"
     ]
    }
   ],
   "source": [
    "base_model = ResNet50(include_top=False, weights='imagenet', input_shape=(128,128,3), pooling='avg')\n",
    "\n",
    "for layer in base_model.layers:\n",
    "    layer.trainable = False\n",
    "\n",
    "x = base_model.output\n",
    "\n",
    "# add fully-connected layer\n",
    "x = layers.Dense(2048, activation='relu')(x)\n",
    "\n",
    "# add dropout\n",
    "x = layers.Dropout(0.25)(x)\n",
    "\n",
    "# add logistic layer\n",
    "predictions = layers.Dense(15, activation='sigmoid')(x)\n",
    "\n",
    "# this is the model we will train\n",
    "model = models.Model(inputs=base_model.input, outputs=predictions)\n",
    "\n",
    "optimizer = Adam(0.001, decay=0.0003)\n",
    "\n",
    "callbacks = [ModelCheckpoint('best_weights.hdf5', monitor='val_loss', save_best_only=True, verbose=2, save_weights_only=False),\n",
    "             ReduceLROnPlateau(monitor='val_loss', factor=0.2, patience=2, verbose=1, mode='auto', min_delta=0.0001, cooldown=0, min_lr=0.0000001),\n",
    "             EarlyStopping(monitor='val_loss', patience=5, verbose=0)]"
   ]
  },
  {
   "cell_type": "code",
   "execution_count": 23,
   "metadata": {
    "id": "ll-bCXjC1ufY"
   },
   "outputs": [],
   "source": [
    "model.compile(optimizer=optimizer, loss='binary_crossentropy', metrics=[fbeta, f2, fbeta_round, 'accuracy'])"
   ]
  },
  {
   "cell_type": "code",
   "execution_count": null,
   "metadata": {
    "id": "Y9xhP5xk1ufY"
   },
   "outputs": [],
   "source": [
    "model.summary()"
   ]
  },
  {
   "cell_type": "code",
   "execution_count": 44,
   "metadata": {
    "colab": {
     "base_uri": "https://localhost:8080/"
    },
    "id": "5HyemMh61ufY",
    "outputId": "13d5134c-79e6-44ae-a032-3b7c327e7971"
   },
   "outputs": [
    {
     "name": "stdout",
     "output_type": "stream",
     "text": [
      "664/664 [==============================] - ETA: 0s - loss: 0.2292 - fbeta: 0.5220 - f2: 0.5228 - fbeta_round: 0.6079 - accuracy: 0.4536\n",
      "Epoch 00001: val_loss improved from inf to 0.22334, saving model to best_weights.hdf5\n",
      "664/664 [==============================] - 163s 245ms/step - loss: 0.2292 - fbeta: 0.5220 - f2: 0.5228 - fbeta_round: 0.6079 - accuracy: 0.4536 - val_loss: 0.2233 - val_fbeta: 0.5205 - val_f2: 0.5178 - val_fbeta_round: 0.6134 - val_accuracy: 0.4536\n"
     ]
    }
   ],
   "source": [
    "STEP_SIZE_TRAIN=train_gen.n//train_gen.batch_size\n",
    "STEP_SIZE_VALID=valid_gen.n//valid_gen.batch_size\n",
    "STEP_SIZE_TEST=test_gen.n//test_gen.batch_size\n",
    "history = model.fit_generator(generator=train_gen,\n",
    "                    steps_per_epoch=STEP_SIZE_TRAIN,\n",
    "                    validation_data=valid_gen,\n",
    "                    validation_steps=STEP_SIZE_VALID,\n",
    "                    callbacks=callbacks,\n",
    "                    epochs=1)"
   ]
  },
  {
   "cell_type": "code",
   "execution_count": 46,
   "metadata": {
    "colab": {
     "base_uri": "https://localhost:8080/"
    },
    "id": "iNgmK_uOWkAv",
    "outputId": "18d2cb1c-e70a-45ce-b973-34e82c13a8b8"
   },
   "outputs": [
    {
     "name": "stdout",
     "output_type": "stream",
     "text": [
      "Epoch 1/50\n",
      "664/664 [==============================] - ETA: 0s - loss: 0.1414 - accuracy: 0.5213 - fbeta: 0.7533 - f2: 0.7553 - fbeta_round: 0.8297\n",
      "Epoch 00001: val_loss did not improve from 0.22334\n",
      "664/664 [==============================] - 179s 270ms/step - loss: 0.1414 - accuracy: 0.5213 - fbeta: 0.7533 - f2: 0.7553 - fbeta_round: 0.8297 - val_loss: 0.3675 - val_accuracy: 0.0082 - val_fbeta: 0.3069 - val_f2: 0.3058 - val_fbeta_round: 0.1094\n",
      "Epoch 2/50\n",
      "664/664 [==============================] - ETA: 0s - loss: 0.0977 - accuracy: 0.5391 - fbeta: 0.8043 - f2: 0.8050 - fbeta_round: 0.8712\n",
      "Epoch 00002: val_loss improved from 0.22334 to 0.10951, saving model to best_weights.hdf5\n",
      "664/664 [==============================] - 178s 269ms/step - loss: 0.0977 - accuracy: 0.5391 - fbeta: 0.8043 - f2: 0.8050 - fbeta_round: 0.8712 - val_loss: 0.1095 - val_accuracy: 0.5095 - val_fbeta: 0.8007 - val_f2: 0.8054 - val_fbeta_round: 0.8558\n",
      "Epoch 3/50\n",
      "664/664 [==============================] - ETA: 0s - loss: 0.0892 - accuracy: 0.5394 - fbeta: 0.8196 - f2: 0.8203 - fbeta_round: 0.8823\n",
      "Epoch 00003: val_loss improved from 0.10951 to 0.09894, saving model to best_weights.hdf5\n",
      "664/664 [==============================] - 178s 268ms/step - loss: 0.0892 - accuracy: 0.5394 - fbeta: 0.8196 - f2: 0.8203 - fbeta_round: 0.8823 - val_loss: 0.0989 - val_accuracy: 0.4871 - val_fbeta: 0.8035 - val_f2: 0.8014 - val_fbeta_round: 0.8656\n",
      "Epoch 4/50\n",
      "664/664 [==============================] - ETA: 0s - loss: 0.0832 - accuracy: 0.5307 - fbeta: 0.8313 - f2: 0.8318 - fbeta_round: 0.8912\n",
      "Epoch 00004: val_loss did not improve from 0.09894\n",
      "664/664 [==============================] - 177s 266ms/step - loss: 0.0832 - accuracy: 0.5307 - fbeta: 0.8313 - f2: 0.8318 - fbeta_round: 0.8912 - val_loss: 0.1095 - val_accuracy: 0.4794 - val_fbeta: 0.7790 - val_f2: 0.7702 - val_fbeta_round: 0.8267\n",
      "Epoch 5/50\n",
      "664/664 [==============================] - ETA: 0s - loss: 0.0793 - accuracy: 0.5453 - fbeta: 0.8383 - f2: 0.8387 - fbeta_round: 0.8967\n",
      "Epoch 00005: val_loss did not improve from 0.09894\n",
      "\n",
      "Epoch 00005: ReduceLROnPlateau reducing learning rate to 1.9999999494757503e-05.\n",
      "664/664 [==============================] - 178s 268ms/step - loss: 0.0793 - accuracy: 0.5453 - fbeta: 0.8383 - f2: 0.8387 - fbeta_round: 0.8967 - val_loss: 0.1025 - val_accuracy: 0.5403 - val_fbeta: 0.8154 - val_f2: 0.8181 - val_fbeta_round: 0.8768\n",
      "Epoch 6/50\n",
      "664/664 [==============================] - ETA: 0s - loss: 0.0659 - accuracy: 0.5533 - fbeta: 0.8613 - f2: 0.8615 - fbeta_round: 0.9126\n",
      "Epoch 00006: val_loss improved from 0.09894 to 0.08821, saving model to best_weights.hdf5\n",
      "664/664 [==============================] - 180s 271ms/step - loss: 0.0659 - accuracy: 0.5533 - fbeta: 0.8613 - f2: 0.8615 - fbeta_round: 0.9126 - val_loss: 0.0882 - val_accuracy: 0.5421 - val_fbeta: 0.8405 - val_f2: 0.8390 - val_fbeta_round: 0.8932\n",
      "Epoch 7/50\n",
      "664/664 [==============================] - ETA: 0s - loss: 0.0591 - accuracy: 0.5540 - fbeta: 0.8752 - f2: 0.8753 - fbeta_round: 0.9227\n",
      "Epoch 00007: val_loss did not improve from 0.08821\n",
      "664/664 [==============================] - 181s 273ms/step - loss: 0.0591 - accuracy: 0.5540 - fbeta: 0.8752 - f2: 0.8753 - fbeta_round: 0.9227 - val_loss: 0.0904 - val_accuracy: 0.5311 - val_fbeta: 0.8437 - val_f2: 0.8421 - val_fbeta_round: 0.8937\n",
      "Epoch 8/50\n",
      "664/664 [==============================] - ETA: 0s - loss: 0.0540 - accuracy: 0.5566 - fbeta: 0.8844 - f2: 0.8844 - fbeta_round: 0.9283\n",
      "Epoch 00008: val_loss did not improve from 0.08821\n",
      "\n",
      "Epoch 00008: ReduceLROnPlateau reducing learning rate to 3.999999898951501e-06.\n",
      "664/664 [==============================] - 179s 270ms/step - loss: 0.0540 - accuracy: 0.5566 - fbeta: 0.8844 - f2: 0.8844 - fbeta_round: 0.9283 - val_loss: 0.0979 - val_accuracy: 0.5410 - val_fbeta: 0.8427 - val_f2: 0.8399 - val_fbeta_round: 0.8895\n",
      "Epoch 9/50\n",
      "664/664 [==============================] - ETA: 0s - loss: 0.0477 - accuracy: 0.5572 - fbeta: 0.8967 - f2: 0.8967 - fbeta_round: 0.9382\n",
      "Epoch 00009: val_loss did not improve from 0.08821\n",
      "664/664 [==============================] - 179s 269ms/step - loss: 0.0477 - accuracy: 0.5572 - fbeta: 0.8967 - f2: 0.8967 - fbeta_round: 0.9382 - val_loss: 0.0961 - val_accuracy: 0.5478 - val_fbeta: 0.8492 - val_f2: 0.8474 - val_fbeta_round: 0.8968\n",
      "Epoch 10/50\n",
      "664/664 [==============================] - ETA: 0s - loss: 0.0457 - accuracy: 0.5600 - fbeta: 0.9010 - f2: 0.9009 - fbeta_round: 0.9407\n",
      "Epoch 00010: val_loss did not improve from 0.08821\n",
      "\n",
      "Epoch 00010: ReduceLROnPlateau reducing learning rate to 7.999999979801942e-07.\n",
      "664/664 [==============================] - 180s 270ms/step - loss: 0.0457 - accuracy: 0.5600 - fbeta: 0.9010 - f2: 0.9009 - fbeta_round: 0.9407 - val_loss: 0.0972 - val_accuracy: 0.5477 - val_fbeta: 0.8519 - val_f2: 0.8504 - val_fbeta_round: 0.8986\n",
      "Epoch 11/50\n",
      "664/664 [==============================] - ETA: 0s - loss: 0.0438 - accuracy: 0.5629 - fbeta: 0.9041 - f2: 0.9041 - fbeta_round: 0.9427\n",
      "Epoch 00011: val_loss did not improve from 0.08821\n",
      "664/664 [==============================] - 181s 273ms/step - loss: 0.0438 - accuracy: 0.5629 - fbeta: 0.9041 - f2: 0.9041 - fbeta_round: 0.9427 - val_loss: 0.0983 - val_accuracy: 0.5465 - val_fbeta: 0.8513 - val_f2: 0.8498 - val_fbeta_round: 0.8955\n"
     ]
    }
   ],
   "source": [
    "optimizer = Adam(0.0001, decay=0.00000001)\n",
    "model.load_weights('best_weights.hdf5', by_name=True)\n",
    "for layer in base_model.layers:\n",
    "    layer.trainable = True\n",
    "\n",
    "model.compile(loss='binary_crossentropy', optimizer=optimizer, metrics=['accuracy', fbeta, f2, fbeta_round])\n",
    "history1 = model.fit_generator(generator=train_gen,\n",
    "                    steps_per_epoch=STEP_SIZE_TRAIN,\n",
    "                    validation_data=valid_gen,\n",
    "                    validation_steps=STEP_SIZE_VALID,\n",
    "                    callbacks=callbacks,\n",
    "                    epochs=50)"
   ]
  },
  {
   "cell_type": "code",
   "execution_count": 49,
   "metadata": {
    "id": "7QBEkz0D6ZMB"
   },
   "outputs": [],
   "source": [
    "# plot diagnostic learning curves\n",
    "def summarize_diagnostics(model_history):\n",
    "  f, (ax1, ax2) = plt.subplots(1, 2, figsize=(18,4))\n",
    "\t# plot loss\n",
    "  ax1.set_title('Cross Entropy Loss')\n",
    "  ax1.plot(model_history.history['loss'], color='blue', label='train')\n",
    "  ax1.plot(model_history.history['val_loss'], color='orange', label='test')\n",
    "\t# plot accuracy\n",
    "  ax2.set_title('f2')\n",
    "  ax2.plot(model_history.history['f2'], color='blue', label='train')\n",
    "  ax2.plot(model_history.history['val_f2'], color='orange', label='test')"
   ]
  },
  {
   "cell_type": "code",
   "execution_count": 50,
   "metadata": {
    "colab": {
     "base_uri": "https://localhost:8080/",
     "height": 281
    },
    "id": "Ljlo8XAI6mUe",
    "outputId": "d4a13299-ea01-42d5-9d8c-1485ae5d02bd"
   },
   "outputs": [
    {
     "data": {
      "image/png": "[encoded data removed]",
      "text/plain": [
       "<Figure size 1296x288 with 2 Axes>"
      ]
     },
     "metadata": {
      "needs_background": "light",
      "tags": []
     },
     "output_type": "display_data"
    }
   ],
   "source": [
    "summarize_diagnostics(history1)"
   ]
  },
  {
   "cell_type": "code",
   "execution_count": 51,
   "metadata": {
    "colab": {
     "base_uri": "https://localhost:8080/"
    },
    "id": "iu8LuZrTmY8H",
    "outputId": "67f2a15e-e1cb-4099-8f1c-c8d05a03d3de"
   },
   "outputs": [
    {
     "name": "stdout",
     "output_type": "stream",
     "text": [
      "WARNING:tensorflow:From <ipython-input-51-b36e709ee068>:1: Model.evaluate_generator (from tensorflow.python.keras.engine.training) is deprecated and will be removed in a future version.\n",
      "Instructions for updating:\n",
      "Please use Model.evaluate, which supports generators.\n",
      "379/379 [==============================] - 28s 74ms/step - loss: 0.0989 - accuracy: 0.5543 - fbeta: 0.8494 - f2: 0.8481 - fbeta_round: 0.8937\n"
     ]
    },
    {
     "data": {
      "text/plain": [
       "[0.09893188625574112,\n",
       " 0.5543370842933655,\n",
       " 0.8493970632553101,\n",
       " 0.8481264114379883,\n",
       " 0.8937033414840698]"
      ]
     },
     "execution_count": 51,
     "metadata": {
      "tags": []
     },
     "output_type": "execute_result"
    }
   ],
   "source": [
    "model.evaluate_generator(test_gen, steps=STEP_SIZE_TEST, verbose=1)"
   ]
  },
  {
   "cell_type": "code",
   "execution_count": 52,
   "metadata": {
    "colab": {
     "base_uri": "https://localhost:8080/"
    },
    "id": "R1WK2U6p7F8P",
    "outputId": "a1328223-41e7-4b96-a7d0-02802b64d347"
   },
   "outputs": [
    {
     "name": "stdout",
     "output_type": "stream",
     "text": [
      "WARNING:tensorflow:From /usr/local/lib/python3.6/dist-packages/tensorflow/python/training/tracking/tracking.py:111: Model.state_updates (from tensorflow.python.keras.engine.training) is deprecated and will be removed in a future version.\n",
      "Instructions for updating:\n",
      "This property should not be used in TensorFlow 2.0, as updates are applied automatically.\n",
      "WARNING:tensorflow:From /usr/local/lib/python3.6/dist-packages/tensorflow/python/training/tracking/tracking.py:111: Layer.updates (from tensorflow.python.keras.engine.base_layer) is deprecated and will be removed in a future version.\n",
      "Instructions for updating:\n",
      "This property should not be used in TensorFlow 2.0, as updates are applied automatically.\n",
      "INFO:tensorflow:Assets written to: greeneye-resnet50/assets\n"
     ]
    }
   ],
   "source": [
    "model.save('GreenEyeResNet50V1')"
   ]
  },
  {
   "cell_type": "code",
   "execution_count": 53,
   "metadata": {
    "colab": {
     "base_uri": "https://localhost:8080/"
    },
    "id": "LK1KXn2j8BPe",
    "outputId": "c0b20937-9c6f-4d36-8af7-89fd816bb0d9"
   },
   "outputs": [
    {
     "name": "stdout",
     "output_type": "stream",
     "text": [
      "  adding: greeneye-resnet50/ (stored 0%)\n",
      "  adding: greeneye-resnet50/saved_model.pb (deflated 93%)\n",
      "  adding: greeneye-resnet50/assets/ (stored 0%)\n",
      "  adding: greeneye-resnet50/variables/ (stored 0%)\n",
      "  adding: greeneye-resnet50/variables/variables.index (deflated 81%)\n",
      "  adding: greeneye-resnet50/variables/variables.data-00000-of-00001 (deflated 8%)\n"
     ]
    }
   ],
   "source": [
    "# Zip model folder into file for downloading from colab\n",
    "\n",
    "#!zip -r greeneye-resnet50.zip greeneye-resnet50/"
   ]
  },
  {
   "cell_type": "markdown",
   "metadata": {
    "id": "44iHrPa2mcfX"
   },
   "source": [
    "### 1.5. Make a Prediction"
   ]
  },
  {
   "cell_type": "code",
   "execution_count": 37,
   "metadata": {
    "id": "k0jmvvcBJIqg"
   },
   "outputs": [],
   "source": [
    "# Load batch of test images and select the first from batch\n",
    "\n",
    "img_label_batch = next(iter(test_gen))\n",
    "label=img_label_batch[1][0]\n",
    "img=img_label_batch[0][0]"
   ]
  },
  {
   "cell_type": "code",
   "execution_count": 38,
   "metadata": {
    "colab": {
     "base_uri": "https://localhost:8080/"
    },
    "id": "sa5Igm4uKUmD",
    "outputId": "09ef37b3-aa14-4a5a-a743-ceade726318b"
   },
   "outputs": [
    {
     "name": "stdout",
     "output_type": "stream",
     "text": [
      "[0.26237807 0.00350679 0.01793735 0.00431442 0.00266427 0.0642231\n",
      " 0.00248608 0.1478302  0.08135573 0.16150424 0.909594   0.1507984\n",
      " 0.01303976 0.00350005 0.16392027]\n",
      "[0. 0. 0. 0. 0. 0. 0. 0. 0. 0. 1. 0. 0. 0. 0.]\n"
     ]
    }
   ],
   "source": [
    "# Make prediction and compare with labels\n",
    "\n",
    "print(model.predict(img_label_batch[0])[0])\n",
    "print(label)"
   ]
  },
  {
   "cell_type": "code",
   "execution_count": 40,
   "metadata": {
    "colab": {
     "base_uri": "https://localhost:8080/",
     "height": 285
    },
    "id": "jAvjbiIEkrZD",
    "outputId": "d815ed55-20f0-45d5-943f-7bb1f771a679"
   },
   "outputs": [
    {
     "data": {
      "text/plain": [
       "<matplotlib.image.AxesImage at 0x7f520971d908>"
      ]
     },
     "execution_count": 40,
     "metadata": {
      "tags": []
     },
     "output_type": "execute_result"
    },
    {
     "data": {
      "image/png": "[encoded data removed]",
      "text/plain": [
       "<Figure size 432x288 with 1 Axes>"
      ]
     },
     "metadata": {
      "needs_background": "light",
      "tags": []
     },
     "output_type": "display_data"
    }
   ],
   "source": [
    "# Inspect image\n",
    "\n",
    "plt.imshow(img)"
   ]
  },
  {
   "cell_type": "markdown",
   "metadata": {
    "id": "9BAMr2ey1ufY"
   },
   "source": [
    "## 3. Explore data"
   ]
  },
  {
   "cell_type": "code",
   "execution_count": null,
   "metadata": {
    "colab": {
     "base_uri": "https://localhost:8080/",
     "height": 452
    },
    "id": "U8QS1v3N1ufY",
    "outputId": "8dcbe78e-89a9-46b8-e79c-f451154ade1d"
   },
   "outputs": [
    {
     "data": {
      "text/html": [
       "<div>\n",
       "<style scoped>\n",
       "    .dataframe tbody tr th:only-of-type {\n",
       "        vertical-align: middle;\n",
       "    }\n",
       "\n",
       "    .dataframe tbody tr th {\n",
       "        vertical-align: top;\n",
       "    }\n",
       "\n",
       "    .dataframe thead th {\n",
       "        text-align: right;\n",
       "    }\n",
       "</style>\n",
       "<table border=\"1\" class=\"dataframe\">\n",
       "  <thead>\n",
       "    <tr style=\"text-align: right;\">\n",
       "      <th></th>\n",
       "      <th>primary</th>\n",
       "      <th>agriculture</th>\n",
       "      <th>water</th>\n",
       "      <th>habitation</th>\n",
       "      <th>road</th>\n",
       "      <th>cultivation</th>\n",
       "      <th>slash_burn</th>\n",
       "      <th>conventional_mine</th>\n",
       "      <th>bare_ground</th>\n",
       "      <th>artisinal_mine</th>\n",
       "      <th>blooming</th>\n",
       "      <th>selective_logging</th>\n",
       "      <th>blow_down</th>\n",
       "    </tr>\n",
       "  </thead>\n",
       "  <tbody>\n",
       "    <tr>\n",
       "      <th>primary</th>\n",
       "      <td>1.000000</td>\n",
       "      <td>0.972148</td>\n",
       "      <td>0.944677</td>\n",
       "      <td>0.947814</td>\n",
       "      <td>0.957502</td>\n",
       "      <td>0.995086</td>\n",
       "      <td>1.000000</td>\n",
       "      <td>0.940000</td>\n",
       "      <td>0.792343</td>\n",
       "      <td>0.955752</td>\n",
       "      <td>1.000000</td>\n",
       "      <td>1.000000</td>\n",
       "      <td>1.000000</td>\n",
       "    </tr>\n",
       "    <tr>\n",
       "      <th>agriculture</th>\n",
       "      <td>0.972148</td>\n",
       "      <td>1.000000</td>\n",
       "      <td>0.365943</td>\n",
       "      <td>0.747814</td>\n",
       "      <td>0.747615</td>\n",
       "      <td>0.754300</td>\n",
       "      <td>0.569378</td>\n",
       "      <td>0.240000</td>\n",
       "      <td>0.261021</td>\n",
       "      <td>0.112094</td>\n",
       "      <td>0.096386</td>\n",
       "      <td>0.191176</td>\n",
       "      <td>0.224490</td>\n",
       "    </tr>\n",
       "    <tr>\n",
       "      <th>water</th>\n",
       "      <td>0.944677</td>\n",
       "      <td>0.365943</td>\n",
       "      <td>1.000000</td>\n",
       "      <td>0.250000</td>\n",
       "      <td>0.263288</td>\n",
       "      <td>0.193880</td>\n",
       "      <td>0.114833</td>\n",
       "      <td>0.260000</td>\n",
       "      <td>0.238979</td>\n",
       "      <td>0.882006</td>\n",
       "      <td>0.048193</td>\n",
       "      <td>0.144118</td>\n",
       "      <td>0.030612</td>\n",
       "    </tr>\n",
       "    <tr>\n",
       "      <th>habitation</th>\n",
       "      <td>0.947814</td>\n",
       "      <td>0.747814</td>\n",
       "      <td>0.250000</td>\n",
       "      <td>1.000000</td>\n",
       "      <td>0.345186</td>\n",
       "      <td>0.199911</td>\n",
       "      <td>0.196172</td>\n",
       "      <td>0.360000</td>\n",
       "      <td>0.189095</td>\n",
       "      <td>0.085546</td>\n",
       "      <td>0.012048</td>\n",
       "      <td>0.038235</td>\n",
       "      <td>0.030612</td>\n",
       "    </tr>\n",
       "    <tr>\n",
       "      <th>road</th>\n",
       "      <td>0.957502</td>\n",
       "      <td>0.747615</td>\n",
       "      <td>0.263288</td>\n",
       "      <td>0.345186</td>\n",
       "      <td>1.000000</td>\n",
       "      <td>0.289033</td>\n",
       "      <td>0.172249</td>\n",
       "      <td>0.590000</td>\n",
       "      <td>0.374710</td>\n",
       "      <td>0.324484</td>\n",
       "      <td>0.030120</td>\n",
       "      <td>0.444118</td>\n",
       "      <td>0.020408</td>\n",
       "    </tr>\n",
       "    <tr>\n",
       "      <th>cultivation</th>\n",
       "      <td>0.995086</td>\n",
       "      <td>0.754300</td>\n",
       "      <td>0.193880</td>\n",
       "      <td>0.199911</td>\n",
       "      <td>0.289033</td>\n",
       "      <td>1.000000</td>\n",
       "      <td>0.602871</td>\n",
       "      <td>0.040000</td>\n",
       "      <td>0.103248</td>\n",
       "      <td>0.053097</td>\n",
       "      <td>0.105422</td>\n",
       "      <td>0.170588</td>\n",
       "      <td>0.081633</td>\n",
       "    </tr>\n",
       "    <tr>\n",
       "      <th>slash_burn</th>\n",
       "      <td>1.000000</td>\n",
       "      <td>0.569378</td>\n",
       "      <td>0.114833</td>\n",
       "      <td>0.196172</td>\n",
       "      <td>0.172249</td>\n",
       "      <td>0.602871</td>\n",
       "      <td>1.000000</td>\n",
       "      <td>0.000000</td>\n",
       "      <td>0.011601</td>\n",
       "      <td>0.000000</td>\n",
       "      <td>0.006024</td>\n",
       "      <td>0.005882</td>\n",
       "      <td>0.020408</td>\n",
       "    </tr>\n",
       "    <tr>\n",
       "      <th>conventional_mine</th>\n",
       "      <td>0.940000</td>\n",
       "      <td>0.240000</td>\n",
       "      <td>0.260000</td>\n",
       "      <td>0.360000</td>\n",
       "      <td>0.590000</td>\n",
       "      <td>0.040000</td>\n",
       "      <td>0.000000</td>\n",
       "      <td>1.000000</td>\n",
       "      <td>0.011601</td>\n",
       "      <td>0.011799</td>\n",
       "      <td>0.000000</td>\n",
       "      <td>0.000000</td>\n",
       "      <td>0.000000</td>\n",
       "    </tr>\n",
       "    <tr>\n",
       "      <th>bare_ground</th>\n",
       "      <td>0.792343</td>\n",
       "      <td>0.261021</td>\n",
       "      <td>0.238979</td>\n",
       "      <td>0.189095</td>\n",
       "      <td>0.374710</td>\n",
       "      <td>0.103248</td>\n",
       "      <td>0.011601</td>\n",
       "      <td>0.011601</td>\n",
       "      <td>1.000000</td>\n",
       "      <td>0.117994</td>\n",
       "      <td>0.009036</td>\n",
       "      <td>0.038235</td>\n",
       "      <td>0.040816</td>\n",
       "    </tr>\n",
       "    <tr>\n",
       "      <th>artisinal_mine</th>\n",
       "      <td>0.955752</td>\n",
       "      <td>0.112094</td>\n",
       "      <td>0.882006</td>\n",
       "      <td>0.085546</td>\n",
       "      <td>0.324484</td>\n",
       "      <td>0.053097</td>\n",
       "      <td>0.000000</td>\n",
       "      <td>0.011799</td>\n",
       "      <td>0.117994</td>\n",
       "      <td>1.000000</td>\n",
       "      <td>0.000000</td>\n",
       "      <td>0.017647</td>\n",
       "      <td>0.000000</td>\n",
       "    </tr>\n",
       "    <tr>\n",
       "      <th>blooming</th>\n",
       "      <td>1.000000</td>\n",
       "      <td>0.096386</td>\n",
       "      <td>0.048193</td>\n",
       "      <td>0.012048</td>\n",
       "      <td>0.030120</td>\n",
       "      <td>0.105422</td>\n",
       "      <td>0.006024</td>\n",
       "      <td>0.000000</td>\n",
       "      <td>0.009036</td>\n",
       "      <td>0.000000</td>\n",
       "      <td>1.000000</td>\n",
       "      <td>0.020588</td>\n",
       "      <td>0.010204</td>\n",
       "    </tr>\n",
       "    <tr>\n",
       "      <th>selective_logging</th>\n",
       "      <td>1.000000</td>\n",
       "      <td>0.191176</td>\n",
       "      <td>0.144118</td>\n",
       "      <td>0.038235</td>\n",
       "      <td>0.444118</td>\n",
       "      <td>0.170588</td>\n",
       "      <td>0.005882</td>\n",
       "      <td>0.000000</td>\n",
       "      <td>0.038235</td>\n",
       "      <td>0.017647</td>\n",
       "      <td>0.020588</td>\n",
       "      <td>1.000000</td>\n",
       "      <td>0.010204</td>\n",
       "    </tr>\n",
       "    <tr>\n",
       "      <th>blow_down</th>\n",
       "      <td>1.000000</td>\n",
       "      <td>0.224490</td>\n",
       "      <td>0.030612</td>\n",
       "      <td>0.030612</td>\n",
       "      <td>0.020408</td>\n",
       "      <td>0.081633</td>\n",
       "      <td>0.020408</td>\n",
       "      <td>0.000000</td>\n",
       "      <td>0.040816</td>\n",
       "      <td>0.000000</td>\n",
       "      <td>0.010204</td>\n",
       "      <td>0.010204</td>\n",
       "      <td>1.000000</td>\n",
       "    </tr>\n",
       "  </tbody>\n",
       "</table>\n",
       "</div>"
      ],
      "text/plain": [
       "                    primary  agriculture  ...  selective_logging  blow_down\n",
       "primary            1.000000     0.972148  ...           1.000000   1.000000\n",
       "agriculture        0.972148     1.000000  ...           0.191176   0.224490\n",
       "water              0.944677     0.365943  ...           0.144118   0.030612\n",
       "habitation         0.947814     0.747814  ...           0.038235   0.030612\n",
       "road               0.957502     0.747615  ...           0.444118   0.020408\n",
       "cultivation        0.995086     0.754300  ...           0.170588   0.081633\n",
       "slash_burn         1.000000     0.569378  ...           0.005882   0.020408\n",
       "conventional_mine  0.940000     0.240000  ...           0.000000   0.000000\n",
       "bare_ground        0.792343     0.261021  ...           0.038235   0.040816\n",
       "artisinal_mine     0.955752     0.112094  ...           0.017647   0.000000\n",
       "blooming           1.000000     0.096386  ...           0.020588   0.010204\n",
       "selective_logging  1.000000     0.191176  ...           1.000000   0.010204\n",
       "blow_down          1.000000     0.224490  ...           0.010204   1.000000\n",
       "\n",
       "[13 rows x 13 columns]"
      ]
     },
     "execution_count": 7,
     "metadata": {
      "tags": []
     },
     "output_type": "execute_result"
    }
   ],
   "source": [
    "def conditional_frequency(a, b):\n",
    "    v = (a * b).sum()/b.sum()\n",
    "    return v\n",
    "train_classes.drop(weather, axis=1).corr(method=conditional_frequency)"
   ]
  },
  {
   "cell_type": "code",
   "execution_count": null,
   "metadata": {
    "id": "069QCdDS8v9T"
   },
   "outputs": [],
   "source": [
    "features = ['agriculture', 'water', 'habitation', 'road', 'cultivation', 'slash_burn', \n",
    "            'conventional_mine', 'bare_ground', 'artisinal_mine',\n",
    "       'blooming', 'selective_logging', 'blow_down']"
   ]
  },
  {
   "cell_type": "code",
   "execution_count": null,
   "metadata": {
    "colab": {
     "base_uri": "https://localhost:8080/"
    },
    "id": "_yPhUAwe9cDa",
    "outputId": "454c4b43-8fb1-4f8c-9129-329194aba7da"
   },
   "outputs": [
    {
     "data": {
      "text/plain": [
       "image_name           train_5.jpgtrain_11.jpgtrain_24.jpgtrain_30.jp...\n",
       "tags                 [haze, primary, water, clear, primary, water, ...\n",
       "haze                                                               594\n",
       "primary                                                           6923\n",
       "agriculture                                                       2554\n",
       "clear                                                             5208\n",
       "water                                                             3050\n",
       "habitation                                                          52\n",
       "road                                                               379\n",
       "cultivation                                                        558\n",
       "slash_burn                                                          13\n",
       "cloudy                                                               0\n",
       "partly_cloudy                                                     1560\n",
       "conventional_mine                                                   26\n",
       "bare_ground                                                        273\n",
       "artisinal_mine                                                      17\n",
       "blooming                                                           264\n",
       "selective_logging                                                  113\n",
       "blow_down                                                           64\n",
       "dtype: object"
      ]
     },
     "execution_count": 58,
     "metadata": {
      "tags": []
     },
     "output_type": "execute_result"
    }
   ],
   "source": [
    "train_classes[train_classes[features].sum(axis = 1) == 1].sum()"
   ]
  },
  {
   "cell_type": "code",
   "execution_count": null,
   "metadata": {
    "colab": {
     "base_uri": "https://localhost:8080/"
    },
    "id": "7aJAN22p9qmW",
    "outputId": "fba7f637-ecfb-4037-f981-76f1b124c27f"
   },
   "outputs": [
    {
     "data": {
      "text/plain": [
       "image_name           train_0.jpgtrain_1.jpgtrain_2.jpgtrain_3.jpgtr...\n",
       "tags                 [haze, primary, agriculture, clear, primary, w...\n",
       "haze                                                              2697\n",
       "primary                                                          37513\n",
       "agriculture                                                      12315\n",
       "clear                                                            28431\n",
       "water                                                             7411\n",
       "habitation                                                        3660\n",
       "road                                                              8071\n",
       "cultivation                                                       4477\n",
       "slash_burn                                                         209\n",
       "cloudy                                                            2089\n",
       "partly_cloudy                                                     7261\n",
       "conventional_mine                                                  100\n",
       "bare_ground                                                        862\n",
       "artisinal_mine                                                     339\n",
       "blooming                                                           332\n",
       "selective_logging                                                  340\n",
       "blow_down                                                           98\n",
       "dtype: object"
      ]
     },
     "execution_count": 59,
     "metadata": {
      "tags": []
     },
     "output_type": "execute_result"
    }
   ],
   "source": [
    "train_classes.sum()"
   ]
  },
  {
   "cell_type": "code",
   "execution_count": null,
   "metadata": {
    "colab": {
     "base_uri": "https://localhost:8080/"
    },
    "id": "cDyeUNX41ufZ",
    "outputId": "2e4428bb-1daf-434e-bef2-4b85c0ff42a1"
   },
   "outputs": [
    {
     "data": {
      "text/plain": [
       "haze                 0.009103\n",
       "primary              0.000000\n",
       "agriculture          0.115644\n",
       "clear                0.257249\n",
       "water                0.138233\n",
       "habitation           0.064396\n",
       "road                 0.115644\n",
       "cultivation          0.007417\n",
       "slash_burn           0.000000\n",
       "cloudy               0.704316\n",
       "partly_cloudy        0.028995\n",
       "conventional_mine    0.002023\n",
       "bare_ground          0.060351\n",
       "artisinal_mine       0.005057\n",
       "blooming             0.000000\n",
       "selective_logging    0.000000\n",
       "blow_down            0.000000\n",
       "dtype: float64"
      ]
     },
     "execution_count": 42,
     "metadata": {
      "tags": []
     },
     "output_type": "execute_result"
    }
   ],
   "source": [
    "train_classes[train_classes['primary']==0].mean(axis=0)"
   ]
  },
  {
   "cell_type": "code",
   "execution_count": null,
   "metadata": {
    "id": "hk0gB0N71ufZ",
    "outputId": "18372539-ee5f-47a8-d0b9-7fe894d74c09"
   },
   "outputs": [
    {
     "data": {
      "text/plain": [
       "primary              0.955752\n",
       "agriculture          0.112094\n",
       "water                0.882006\n",
       "habitation           0.085546\n",
       "road                 0.324484\n",
       "cultivation          0.053097\n",
       "slash_burn           0.000000\n",
       "conventional_mine    0.011799\n",
       "bare_ground          0.117994\n",
       "artisinal_mine       1.000000\n",
       "blooming             0.000000\n",
       "selective_logging    0.017699\n",
       "blow_down            0.000000\n",
       "clear                0.905605\n",
       "haze                 0.014749\n",
       "cloudy               0.000000\n",
       "partly_cloudy        0.079646\n",
       "dtype: float64"
      ]
     },
     "execution_count": 23,
     "metadata": {
      "tags": []
     },
     "output_type": "execute_result"
    }
   ],
   "source": [
    "train_classes[train_classes['artisinal_mine']==1].mean(axis=0)"
   ]
  },
  {
   "cell_type": "code",
   "execution_count": null,
   "metadata": {
    "id": "6_SQfpp21ufZ",
    "outputId": "c57171ad-6544-442b-fbfc-f92ac60283a2"
   },
   "outputs": [
    {
     "data": {
      "text/plain": [
       "primary              1.000000\n",
       "agriculture          0.096386\n",
       "water                0.048193\n",
       "habitation           0.012048\n",
       "road                 0.030120\n",
       "cultivation          0.105422\n",
       "slash_burn           0.006024\n",
       "conventional_mine    0.000000\n",
       "bare_ground          0.009036\n",
       "artisinal_mine       0.000000\n",
       "blooming             1.000000\n",
       "selective_logging    0.021084\n",
       "blow_down            0.003012\n",
       "clear                0.936747\n",
       "haze                 0.012048\n",
       "cloudy               0.000000\n",
       "partly_cloudy        0.051205\n",
       "dtype: float64"
      ]
     },
     "execution_count": 24,
     "metadata": {
      "tags": []
     },
     "output_type": "execute_result"
    }
   ],
   "source": [
    "train_classes[train_classes['blooming']==1].mean(axis=0)"
   ]
  },
  {
   "cell_type": "code",
   "execution_count": null,
   "metadata": {
    "id": "bhyPUs_u6_fo"
   },
   "outputs": [],
   "source": []
  }
 ],
 "metadata": {
  "accelerator": "GPU",
  "colab": {
   "collapsed_sections": [],
   "name": "GreenEyeResNet50V1.ipynb",
   "provenance": [],
   "toc_visible": true
  },
  "kernelspec": {
   "display_name": "Python 3",
   "language": "python",
   "name": "python3"
  },
  "language_info": {
   "codemirror_mode": {
    "name": "ipython",
    "version": 3
   },
   "file_extension": ".py",
   "mimetype": "text/x-python",
   "name": "python",
   "nbconvert_exporter": "python",
   "pygments_lexer": "ipython3",
   "version": "3.8.5"
  },
  "toc": {
   "base_numbering": 1,
   "nav_menu": {},
   "number_sections": true,
   "sideBar": true,
   "skip_h1_title": false,
   "title_cell": "Table of Contents",
   "title_sidebar": "Contents",
   "toc_cell": false,
   "toc_position": {},
   "toc_section_display": true,
   "toc_window_display": false
  },
  "varInspector": {
   "cols": {
    "lenName": 16,
    "lenType": 16,
    "lenVar": 40
   },
   "kernels_config": {
    "python": {
     "delete_cmd_postfix": "",
     "delete_cmd_prefix": "del ",
     "library": "var_list.py",
     "varRefreshCmd": "print(var_dic_list())"
    },
    "r": {
     "delete_cmd_postfix": ") ",
     "delete_cmd_prefix": "rm(",
     "library": "var_list.r",
     "varRefreshCmd": "cat(var_dic_list()) "
    }
   },
   "types_to_exclude": [
    "module",
    "function",
    "builtin_function_or_method",
    "instance",
    "_Feature"
   ],
   "window_display": false
  }
 },
 "nbformat": 4,
 "nbformat_minor": 1
}
